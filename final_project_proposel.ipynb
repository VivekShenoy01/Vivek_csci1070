{
 "cells": [
  {
   "cell_type": "markdown",
   "metadata": {},
   "source": [
    "I plan on working alone (LIKE BATMAN)\n",
    "\n",
    "I plan on dedicating an 30 mins to an hour each day up until the project due date. Giving more time when deamed necessary\n",
    "\n",
    "I will be using the Health Care Appointment Dataset (https://www.kaggle.com/datasets/wajahat1064/healthcare-appointment-dataset)\n",
    "\n",
    "Null: Through the Health Care Appointment Dataset we can see that your age along with whether or not you have a scholarship and diabetes and your neighborhood has no affect on whether you possess alcholism\n",
    "\n",
    "Alternative: Through the Health Care Appointment Dataset we can see that your age along with whether or not you have a scholarship and diabetes and your neighborhood has an affect on wheter you possess alcholism\n",
    "\n",
    "The models I would use is LogisticRegression because I want to predict on whether someone possess alcholism which would be a true or false value as well as using K-NN"
   ]
  }
 ],
 "metadata": {
  "language_info": {
   "name": "python"
  }
 },
 "nbformat": 4,
 "nbformat_minor": 2
}
