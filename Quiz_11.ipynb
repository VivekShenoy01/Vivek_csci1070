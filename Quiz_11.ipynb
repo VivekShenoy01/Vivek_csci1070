{
 "cells": [
  {
   "cell_type": "code",
   "execution_count": 66,
   "metadata": {},
   "outputs": [
    {
     "data": {
      "text/plain": [
       "['a', 'b']"
      ]
     },
     "execution_count": 66,
     "metadata": {},
     "output_type": "execute_result"
    }
   ],
   "source": [
    "def num_clean(nums):\n",
    "    return [item for item in nums if not isinstance(item, (int,float))]\n",
    "list = [1,2,'a','b',7.6]\n",
    "filter = num_clean(list)\n",
    "filter"
   ]
  },
  {
   "cell_type": "code",
   "execution_count": 69,
   "metadata": {},
   "outputs": [
    {
     "data": {
      "text/plain": [
       "'Not Applicable'"
      ]
     },
     "execution_count": 69,
     "metadata": {},
     "output_type": "execute_result"
    }
   ],
   "source": [
    "def fizzbuzz (x: int) -> str:\n",
    "    if x % 3 == 0 and x % 5 == 0:\n",
    "        return \"fizzbuzz\"\n",
    "    elif x % 3 == 0:\n",
    "        return \"fizz\"\n",
    "    elif x % 5 == 0:\n",
    "        return \"buzz\"\n",
    "    else:\n",
    "        return \"Not Applicable\"\n",
    "\n",
    "x = 13\n",
    "\n",
    "fizzbuzz(x)"
   ]
  }
 ],
 "metadata": {
  "kernelspec": {
   "display_name": "Python 3",
   "language": "python",
   "name": "python3"
  },
  "language_info": {
   "codemirror_mode": {
    "name": "ipython",
    "version": 3
   },
   "file_extension": ".py",
   "mimetype": "text/x-python",
   "name": "python",
   "nbconvert_exporter": "python",
   "pygments_lexer": "ipython3",
   "version": "3.10.15"
  }
 },
 "nbformat": 4,
 "nbformat_minor": 2
}
