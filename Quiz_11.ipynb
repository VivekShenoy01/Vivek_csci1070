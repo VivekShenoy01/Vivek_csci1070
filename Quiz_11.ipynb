{
 "cells": [
  {
   "cell_type": "code",
   "execution_count": 66,
   "metadata": {},
   "outputs": [
    {
     "data": {
      "text/plain": [
       "['a', 'b']"
      ]
     },
     "execution_count": 66,
     "metadata": {},
     "output_type": "execute_result"
    }
   ],
   "source": [
    "def num_clean(nums):\n",
    "    return [item for item in nums if not isinstance(item, (int,float))]\n",
    "list = [1,2,'a','b',7.6]\n",
    "filter = num_clean(list)\n",
    "filter"
   ]
  },
  {
   "cell_type": "code",
   "execution_count": 69,
   "metadata": {},
   "outputs": [
    {
     "data": {
      "text/plain": [
       "'Not Applicable'"
      ]
     },
     "execution_count": 69,
     "metadata": {},
     "output_type": "execute_result"
    }
   ],
   "source": [
    "def fizzbuzz (x: int) -> str:\n",
    "\n",
    "    \"\"\"\"\n",
    "This function see's whether if not a number x is divisable by 3 and 5 if it is by both then fizzbuzz is return if only by 3 then fizz and if only by 5 then buzz\n",
    "If it is not divsable by any like 13 which is the example number I used then it returns Not Applicable\n",
    "\n",
    "\"\"\"\"\n",
    "    if x % 3 == 0 and x % 5 == 0:\n",
    "        # Seeing if it is divisable by 3 and 5\n",
    "        return \"fizzbuzz\"\n",
    "    elif x % 3 == 0:\n",
    "        # Seeing if it is divisable by 3\n",
    "        return \"fizz\"\n",
    "    elif x % 5 == 0:\n",
    "        # Seeing if it is divisable by 5\n",
    "        return \"buzz\"\n",
    "    else:\n",
    "        # It is not divisable by 3 or 5\n",
    "        return \"Not Applicable\"\n",
    "\n",
    "x = 13\n",
    "fizzbuzz(x)\n",
    "\n",
    "\n",
    "\n"
   ]
  }
 ],
 "metadata": {
  "kernelspec": {
   "display_name": "Python 3",
   "language": "python",
   "name": "python3"
  },
  "language_info": {
   "codemirror_mode": {
    "name": "ipython",
    "version": 3
   },
   "file_extension": ".py",
   "mimetype": "text/x-python",
   "name": "python",
   "nbconvert_exporter": "python",
   "pygments_lexer": "ipython3",
   "version": "3.10.15"
  }
 },
 "nbformat": 4,
 "nbformat_minor": 2
}
